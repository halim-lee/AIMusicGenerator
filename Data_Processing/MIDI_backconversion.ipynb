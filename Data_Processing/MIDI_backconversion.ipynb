{
 "cells": [
  {
   "cell_type": "code",
   "execution_count": 1,
   "metadata": {},
   "outputs": [],
   "source": [
    "import mido\n",
    "from mido import MidiFile, Message, MidiTrack\n",
    "import torch\n",
    "import os\n",
    "import numpy as np\n",
    "import time\n",
    "import midi\n",
    "import glob  \n",
    "from tqdm import tqdm\n",
    "\n",
    "os.chdir('D:\\engsci\\year 3\\CLASS\\APS360\\Project') #Sets current working directory!\n",
    "# from midiutil.MidiFile import MIDIFile"
   ]
  },
  {
   "cell_type": "markdown",
   "metadata": {},
   "source": [
    "# mid.save('songname_mid.mid') to save songs\n",
    "Process: \n",
    "1) Extract the original time signatures from the data by subtracting times...\n",
    "2) Remove the sustain column of the array.\n",
    "2) Compile into a MIDI file\n",
    "#from sustain to velocity zero.\n",
    "MIDIUtil: https://code.google.com/archive/p/midiutil/\n",
    "Other sources: https://medium.com/analytics-vidhya/convert-midi-file-to-numpy-array-in-python-7d00531890c\n",
    "^^MIDIUtil has a function that can just about take our array as an input. However, we will do it the trickier way with Mido because it's easier to use with Colab. Specifically:\n",
    "\n",
    "run: \n",
    "\n",
    "pip install mido\n",
    "\n",
    "on its own line. Then run:\n",
    "\n",
    "import mido\n",
    "\n",
    "in the next code block.\n",
    "\n",
    "Need also: https://pypi.org/project/py-midi/\n",
    "\n",
    "pip install py-midi\n",
    "\n",
    "then:\n",
    "\n",
    "import midi"
   ]
  },
  {
   "cell_type": "code",
   "execution_count": 2,
   "metadata": {},
   "outputs": [],
   "source": [
    "#Essential workflow is: Loop through array.\n",
    "#For each note, extract the sustain value of the note.\n",
    "#Go to next note. If time to next note is smaller than sustain, add next note and call the function again with updated sustain as sustain-(time of next note)\n",
    "#If time to next note is larger than sustain, add the original note with velocity zero and time = sustain.\n",
    "\n",
    "def Numpy2Midi(array):                      # Defining it iteratively...\n",
    "    #Start with initializing a new Mido Track:\n",
    "    mid = MidiFile()\n",
    "    track = MidiTrack()\n",
    "    already_added = []\n",
    "    for i,note in enumerate(array):         # Get the index and the note. Array must be int array             \n",
    "        #print(note)\n",
    "        sustain = note[3]                   # Get how long the note is on for.\n",
    "        #print(sustain)\n",
    "        j = 1                               #\n",
    "        if i not in already_added:\n",
    "            track.append(Message('note_on',note = array[i,0], velocity = array[i,1],time = array[i,2])) # Add the note start to the track.\n",
    "        while (i+j <= array.shape[0]-1) and (sustain > array[i+j,2]):       \n",
    "            # ^^ If sustain is longer than the time to the next note or we reached the last note...\n",
    "            if (i+j) not in already_added:\n",
    "#                 print('not already added')\n",
    "                track.append(Message('note_on',note = array[i+j,0], velocity = array[i+j,1],time = array[i+j,2]))\n",
    "                already_added.append([i+j]) #Remember that we already added the start of this note.\n",
    "#                 print('updated already_apped list')\n",
    "            sustain = sustain - array[i+j,2] # Subtract the time to the next note.\n",
    "            j += 1 #update index to check agains.\n",
    "        track.append(Message('note_on',note = array[i,0], velocity = 0,time = sustain)) # Add the off note.\n",
    "    mid.tracks.append(track)\n",
    "    return mid"
   ]
  },
  {
   "cell_type": "code",
   "execution_count": 3,
   "metadata": {},
   "outputs": [
    {
     "name": "stdout",
     "output_type": "stream",
     "text": [
      "[[ 67.  74. 762. 749.]\n",
      " [ 39.  53.  15.  82.]\n",
      " [ 63.  55.   5. 412.]\n",
      " ...\n",
      " [ 82.  92.   1. 472.]\n",
      " [ 79.  95.   1. 468.]\n",
      " [ 39.  90.   3. 437.]]\n",
      "[[ 67  74 762 749]\n",
      " [ 39  53  15  82]\n",
      " [ 63  55   5 412]\n",
      " ...\n",
      " [ 82  92   1 472]\n",
      " [ 79  95   1 468]\n",
      " [ 39  90   3 437]]\n",
      "3992\n"
     ]
    }
   ],
   "source": [
    "#load in the cleanNotes file:\n",
    "import numpy\n",
    "cleanNotes = numpy.load('cleanNotes.npy')\n",
    "print(cleanNotes)\n",
    "cleanNotes = cleanNotes.astype('int')\n",
    "print(cleanNotes)\n",
    "print(cleanNotes.shape[0]-1)"
   ]
  },
  {
   "cell_type": "code",
   "execution_count": 4,
   "metadata": {},
   "outputs": [],
   "source": [
    "test = Numpy2Midi(cleanNotes)\n",
    "test.save('test_song_back.mid')"
   ]
  },
  {
   "cell_type": "code",
   "execution_count": null,
   "metadata": {},
   "outputs": [],
   "source": []
  }
 ],
 "metadata": {
  "kernelspec": {
   "display_name": "Python 3",
   "language": "python",
   "name": "python3"
  },
  "language_info": {
   "codemirror_mode": {
    "name": "ipython",
    "version": 3
   },
   "file_extension": ".py",
   "mimetype": "text/x-python",
   "name": "python",
   "nbconvert_exporter": "python",
   "pygments_lexer": "ipython3",
   "version": "3.7.9"
  }
 },
 "nbformat": 4,
 "nbformat_minor": 4
}
