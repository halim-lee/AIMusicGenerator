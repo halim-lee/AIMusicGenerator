{
  "nbformat": 4,
  "nbformat_minor": 0,
  "metadata": {
    "kernelspec": {
      "display_name": "Python 3",
      "language": "python",
      "name": "python3"
    },
    "language_info": {
      "codemirror_mode": {
        "name": "ipython",
        "version": 3
      },
      "file_extension": ".py",
      "mimetype": "text/x-python",
      "name": "python",
      "nbconvert_exporter": "python",
      "pygments_lexer": "ipython3",
      "version": "3.7.4"
    },
    "colab": {
      "name": "Project_workbook_inst_classification.ipynb",
      "provenance": []
    },
    "accelerator": "GPU"
  },
  "cells": [
    {
      "cell_type": "markdown",
      "metadata": {
        "id": "oPQ2oTOyrSiA"
      },
      "source": [
        "# Project File - APS360 Team 25\n",
        "Divided into the following section: \n",
        "# \n",
        "1) Library imports\n",
        "2) Data imports\n",
        "3) Model architecture definition\n",
        "4) Training function definition\n",
        "5) Model training\n",
        "6) Model testing"
      ]
    },
    {
      "cell_type": "markdown",
      "metadata": {
        "id": "CxCkcc2ArSiA"
      },
      "source": [
        "## Library imports \n",
        "(Place all library imports here)"
      ]
    },
    {
      "cell_type": "code",
      "metadata": {
        "colab": {
          "base_uri": "https://localhost:8080/"
        },
        "id": "_Qdi1ymBrSiA",
        "outputId": "b3f9649f-15e3-45da-b14a-505714afdad9"
      },
      "source": [
        "#KP - I just added the main ones from the labs.\n",
        "import matplotlib.pyplot as plt\n",
        "import numpy as np\n",
        "\n",
        "#import torchvision\n",
        "import torch\n",
        "import torch.nn as nn\n",
        "import torch.nn.functional as F\n",
        "import torch.optim as optim\n",
        "from torch.utils.data import TensorDataset, DataLoader, random_split\n",
        "\n",
        "import time # Tracking model training time.\n",
        "\n",
        "# Install mido for Data importing\n",
        "!pip install mido;\n",
        "import mido\n",
        "from mido import MidiFile, Message, MidiTrack, MetaMessage\n",
        "import os\n",
        "import random\n",
        "import copy"
      ],
      "execution_count": 1,
      "outputs": [
        {
          "output_type": "stream",
          "text": [
            "Collecting mido\n",
            "\u001b[?25l  Downloading https://files.pythonhosted.org/packages/20/0a/81beb587b1ae832ea6a1901dc7c6faa380e8dd154e0a862f0a9f3d2afab9/mido-1.2.9-py2.py3-none-any.whl (52kB)\n",
            "\r\u001b[K     |██████▎                         | 10kB 21.4MB/s eta 0:00:01\r\u001b[K     |████████████▌                   | 20kB 18.2MB/s eta 0:00:01\r\u001b[K     |██████████████████▊             | 30kB 11.0MB/s eta 0:00:01\r\u001b[K     |█████████████████████████       | 40kB 9.1MB/s eta 0:00:01\r\u001b[K     |███████████████████████████████▏| 51kB 7.9MB/s eta 0:00:01\r\u001b[K     |████████████████████████████████| 61kB 2.7MB/s \n",
            "\u001b[?25hInstalling collected packages: mido\n",
            "Successfully installed mido-1.2.9\n"
          ],
          "name": "stdout"
        }
      ]
    },
    {
      "cell_type": "code",
      "metadata": {
        "colab": {
          "base_uri": "https://localhost:8080/"
        },
        "id": "I3b7uuDcrqIj",
        "outputId": "eaf04f40-d5ff-40f2-b395-6854c3e36e8e"
      },
      "source": [
        "#mount googledrive\n",
        "from google.colab import drive\n",
        "drive.mount('/content/gdrive')\n",
        "\n",
        "# location on Google Drive\n",
        "master_path = '/content/gdrive/My Drive/APS360/Project/'\n",
        "\n",
        "#Set working directory if required:\n",
        "%cd /content/gdrive/My\\ Drive/APS360/Project/"
      ],
      "execution_count": 2,
      "outputs": [
        {
          "output_type": "stream",
          "text": [
            "Mounted at /content/gdrive\n",
            "/content/gdrive/My Drive/APS360/Project\n"
          ],
          "name": "stdout"
        }
      ]
    },
    {
      "cell_type": "markdown",
      "metadata": {
        "id": "755DNUDOrSiB"
      },
      "source": [
        "## Data imports\n",
        "#### MIDI reading functions"
      ]
    },
    {
      "cell_type": "code",
      "metadata": {
        "id": "UGf_y0zxrSiB"
      },
      "source": [
        "def CountTracks(directory):          #Count files and tracks in folder\n",
        "    trackCount = 0\n",
        "    fileCount = 0\n",
        "    for file in os.listdir(directory):\n",
        "        if file.endswith(\".midi\"):\n",
        "            fileCount += 1\n",
        "            midiDir = MidiFile(directory+\"/\"+file)\n",
        "            for track in midiDir.tracks:\n",
        "                trackCount += 1\n",
        "    print(fileCount+\" files\")\n",
        "    print(trackCount+\" tracks\")\n",
        "\n",
        "    \n",
        "def PrintMessages(mid):                # print midi messages\n",
        "    for i, track in enumerate(mid.tracks):\n",
        "        print('Track {}: {}'.format(i, track.name))\n",
        "        for msg in track:\n",
        "            print(msg)\n",
        "\n",
        "            \n",
        "def PrintSomeMessages(mid):             #print first 200 midi messages\n",
        "    track = mid.tracks[1]\n",
        "    for i,msg in enumerate(track):\n",
        "        if i < 200:\n",
        "            print(msg)\n",
        "            \n",
        "def PrintMetaMessages(mid):             #print fmeta messages\n",
        "    track = mid.tracks[0]\n",
        "    for i,msg in enumerate(track):\n",
        "        print(msg)\n",
        "\n",
        "def cleanupMessages(mid):              #removes non-note messages by force\n",
        "    track = mid.tracks[1]\n",
        "    track2 = []\n",
        "    for msg in track:\n",
        "        if msg.type == \"note_on\":\n",
        "            track2.append(msg)\n",
        "    mid.tracks[1] = track2"
      ],
      "execution_count": 3,
      "outputs": []
    },
    {
      "cell_type": "markdown",
      "metadata": {
        "id": "2UT23qIIrSiB"
      },
      "source": [
        "#### MIDI to Numpy code"
      ]
    },
    {
      "cell_type": "code",
      "metadata": {
        "id": "zsvL0x4krSiB"
      },
      "source": [
        "def Midi2NumpyNoSustain(mid, track0=1):                                #converts to numpy array removing non-note messages\n",
        "    track = mid.tracks[track0]                           #0th track only contains meta-messages, all notes on 1st track\n",
        "    notes = np.empty([0,4])\n",
        "    time = 0\n",
        "    for msg in track:\n",
        "        if msg.type == \"note_on\":                   # only count \"note\" messages - other inputs i.e. foot pedals are ignored\n",
        "            notes = np.append(notes,np.array([[msg.note, msg.velocity, msg.time + time, 0]]),axis=0)         # (note, velocity, time, sustain)\n",
        "            time = 0\n",
        "        elif msg.type == \"note_off\":\n",
        "            notes = np.append(notes,np.array([[msg.note, 0, msg.time + time, 0]]),axis=0)         # (note, velocity, time, sustain)\n",
        "            time = 0        \n",
        "        else:\n",
        "            time += msg.time                        #adjust time when removing other messages\n",
        "    return notes\n",
        "\n",
        "\n",
        "def NumpyGetSustain(note):\n",
        "    notes = np.copy(note)\n",
        "    for i, msg in enumerate(notes):\n",
        "        if msg[1] > 0:                            # if velocity is not 0\n",
        "            j = 1\n",
        "            sustain = 0\n",
        "            while msg[0] != notes[i+j][0]:        # while note values are different\n",
        "                sustain += notes[i+j][2]\n",
        "                j += 1                            #search for next message with same note i.e. message telling that note was released\n",
        "            notes[i,3] = sustain + notes[i+j][2]\n",
        "    time = 0\n",
        "    for i, msg in enumerate(notes):\n",
        "        if msg[1] > 0:\n",
        "            notes[i,2] += time\n",
        "            time = 0\n",
        "        else:\n",
        "            time += msg[2]                        #adjust time\n",
        "    notes = notes[notes[:,1] > 0]                 #filter for notes with positive velocities (note presses)\n",
        "    return notes\n",
        "\n",
        "def NumpyNormalize(note, oneHot=False, full=False):                         #normalize all values to 0-1\n",
        "    notes = np.copy(note)\n",
        "    \n",
        "    if oneHot:\n",
        "        if full:\n",
        "            notes[:,88] /= 128\n",
        "            notes[:,89] /= 40000\n",
        "            notes[:,90] /= 40000\n",
        "        else:\n",
        "            notes[:,12] /= 11\n",
        "            notes[:,13] /= 128\n",
        "            notes[:,14] /= 40000\n",
        "            notes[:,15] /= 40000\n",
        "    else:\n",
        "        notes[:,0] /= 128\n",
        "        notes[:,1] /= 128\n",
        "        notes[:,2] /= 40000\n",
        "        notes[:,3] /= 40000       \n",
        "    return notes\n",
        "\n",
        "def NumpyOneHot(note):\n",
        "    notes = np.copy(note)\n",
        "    oneHot = np.zeros([len(notes),16])\n",
        "    oneHot[:, 13:] = notes[:, 1:]\n",
        "    names = notes[:,0]\n",
        "    namesOct = names%12\n",
        "    oneHot[:,12] = (names-(namesOct))/12\n",
        "    \n",
        "    for i, name in enumerate(namesOct):\n",
        "        oneHot[i,name.astype(int)] = 1\n",
        "    \n",
        "    return oneHot\n",
        "\n",
        "def NumpyNotesOneHot(note):\n",
        "    notes = np.copy(note)\n",
        "    \n",
        "    oneHot = np.zeros([len(notes),91])\n",
        "    oneHot[:, 88:] = notes[:, 1:]\n",
        "    names = notes[:,0]-21\n",
        "    #namesOct = names%12\n",
        "    #oneHot[:,12] = (names-(namesOct))/12\n",
        "    \n",
        "    for i, name in enumerate(names):\n",
        "        oneHot[i,name.astype(int)] = 1\n",
        "    \n",
        "    return oneHot\n",
        "\n",
        "def Midi2Numpy(path, oneHot=False, track0=1): # full midi to numpy conversion\n",
        "    mid = MidiFile(path)\n",
        "    notes = Midi2NumpyNoSustain(mid, track0=track0)\n",
        "    cleanNotes = NumpyGetSustain(notes)\n",
        "    \n",
        "    if oneHot:\n",
        "        cleanNotes = NumpyOneHot(cleanNotes)\n",
        "    \n",
        "    normNotes = NumpyNormalize(cleanNotes, oneHot=oneHot)\n",
        "    return normNotes"
      ],
      "execution_count": 4,
      "outputs": []
    },
    {
      "cell_type": "markdown",
      "metadata": {
        "id": "WQ3C4NpgrSiB"
      },
      "source": [
        "#### Numpy to MIDI code"
      ]
    },
    {
      "cell_type": "code",
      "metadata": {
        "id": "FcyTTyH-rSiB"
      },
      "source": [
        "def NumpyDenormalize(note): # interpret all values from 0-1 to normal values\n",
        "    notes = np.copy(note)    \n",
        "    if notes.shape[1] == 16: # if encode as one-hot\n",
        "        notes[:,12] *= 11 # octave\n",
        "        notes[:,13] *= 128 # vel\n",
        "        notes[:,14] *= 40000 # time\n",
        "        notes[:,15] *= 40000 # sustain\n",
        "        \n",
        "        notes = NumpyEncode(notes) #encode back as original 4-variable format\n",
        "        \n",
        "    elif notes.shape[1] == 91: # if encoded as one-hot w/o octave\n",
        "        notes[:,88] *= 128\n",
        "        notes[:,89] *= 40000\n",
        "        notes[:,90] *= 40000\n",
        "        \n",
        "        #print(notes)\n",
        "        \n",
        "        notes = NumpyEncodeNotes(notes)\n",
        "        \n",
        "    else:\n",
        "        notes[:,0] *= 128\n",
        "        notes[:,1] *= 128\n",
        "        notes[:,2] *= 40000\n",
        "        notes[:,3] *= 40000       \n",
        "    return notes.astype(int)\n",
        "\n",
        "def NumpyEncode(note): # convert back from one-hot encoding\n",
        "    notes = np.copy(note)    \n",
        "    encoded = np.zeros([len(notes),4]) # create array   \n",
        "    encoded[:, 1:] = notes[:, 13:] # set vel/time/sustain\n",
        "    encoded[:, 0] = notes[:,12]*12 # add octave value\n",
        "    \n",
        "    for i in range(len(notes)):\n",
        "        encoded[i,0] += np.argmax(notes[i,:12])\n",
        "    \n",
        "    return encoded\n",
        "\n",
        "def NumpyEncodeNotes(note): # convert back from one-hot encoding\n",
        "    notes = np.copy(note)    \n",
        "    encoded = np.zeros([len(notes),4])\n",
        "    \n",
        "    encoded[:, 1:] = notes[:, 88:] # set vel/time/sustain\n",
        "    \n",
        "    for i in range(len(notes)):\n",
        "        encoded[i,0] += np.argmax(notes[i,:88])+21\n",
        "    \n",
        "    return encoded\n",
        "\n",
        "def NumpySequence(notes): # put all notes into a \"timeline\" i.e.: time values of [10, 20, 10, 30] become [10, 30, 40, 70]\n",
        "    sequenced = np.copy(notes)                      # this allows us to easily add vel=0 notes in any order since we can later sort them by time\n",
        "    for i, msg in enumerate(sequenced):\n",
        "        if i > 0:\n",
        "            sequenced[i,2] += sequenced[i-1,2]\n",
        "    return sequenced\n",
        "\n",
        "def NumpyAddOffNotes(sequenced): # add vel=0 notes from sustain into sequenced timeline\n",
        "    withOff = np.copy(sequenced)\n",
        "    for msg in sequenced:\n",
        "        offNote = np.array([[msg[0], 0, msg[2] + msg[3], 0]])\n",
        "        withOff = np.append(withOff, offNote, axis=0)\n",
        "    #withOff = np.sort(withOff,axis=0)\n",
        "    withOff = withOff[withOff[:,2].argsort()] # sort by time\n",
        "    return withOff\n",
        "\n",
        "def NumpyUnsequence(notes): # revert time value to \"time since last message\"\n",
        "    unsequenced = np.copy(notes)\n",
        "    for i, msg in reversed(list(enumerate(unsequenced))):\n",
        "        unsequenced[i,3] = 0\n",
        "        if i > 0:\n",
        "            unsequenced[i,2] -= unsequenced[i-1,2]\n",
        "    return unsequenced\n",
        "\n",
        "def Numpy2MidiDirect(array):    #make MIDI object from numpy\n",
        "    #Start with initializing a new Mido Track:\n",
        "    mid = MidiFile()\n",
        "    track0 = MidiTrack()\n",
        "    track1 = MidiTrack()\n",
        "    \n",
        "    track0.append(MetaMessage('set_tempo', tempo=500000, time=0)) #MetaMessages not necessary but are present in used files\n",
        "    track0.append(MetaMessage('time_signature', numerator=4, denominator=4, clocks_per_click=24, notated_32nd_notes_per_beat=8, time=0))\n",
        "    track0.append(MetaMessage('end_of_track', time=1))\n",
        "    \n",
        "    track1.append(Message('program_change', channel=0, program=0, time=0))\n",
        "    \n",
        "    for i,note in enumerate(array):         # Get the index and the note. Array must be int array\n",
        "        j = 1\n",
        "        track1.append(Message('note_on',note = array[i,0], velocity = array[i,1],time = array[i,2])) # Add the note to the track.\n",
        "\n",
        "    mid.tracks.append(track0)\n",
        "    mid.tracks.append(track1)\n",
        "    return mid\n",
        "\n",
        "def Numpy2Midi(notes, name): # full numpy to midi conversion, saving result to [name].midi\n",
        "    denorm = NumpyDenormalize(notes)\n",
        "    seq = NumpySequence(denorm)\n",
        "    off = NumpyAddOffNotes(seq)\n",
        "    unseq = NumpyUnsequence(off)\n",
        "    mid = Numpy2MidiDirect(unseq)\n",
        "    mid.save(name + \".midi\")"
      ],
      "execution_count": 5,
      "outputs": []
    },
    {
      "cell_type": "code",
      "metadata": {
        "id": "OCUYyBiIrSiB"
      },
      "source": [
        "def splitTrack(midiFileName, inputDir, outputDir):\n",
        "    mid = MidiFile(inputDir+midiFileName+\".midi\")\n",
        "    for t, track in enumerate(mid.tracks):\n",
        "        program, channel = findInstrument(track)        \n",
        "        if len(track) < 200 or program == -1:\n",
        "            continue\n",
        "        trackMidi = copy.copy(mid)\n",
        "        indices = [t]\n",
        "        trackMidi.tracks = [trackMidi.tracks[x] for x in indices]\n",
        "        #trackMidi.tracks.append(track)\n",
        "        trackMidi.save(outputDir + midiFileName + \"_prog{:0>3d}_chan{:0>2d}.midi\".format(program,channel))\n",
        "\n",
        "def splitAllTracks(inputDir, outputDir, first=0): # very bad code -  doesnt remove the .midi in the middle lol\n",
        "    for i,f in enumerate(os.listdir(inputDir)):\n",
        "        if i >= first:\n",
        "            if len(f) <7:\n",
        "                continue\n",
        "            splitTrack(f[:7],inputDir,outputDir)\n",
        "\n",
        "            if i % 1 == 0:\n",
        "                print(f)\n",
        "        \n",
        "def findInstrument(track):\n",
        "    count = 0\n",
        "    infoMsg = 0\n",
        "    \n",
        "    for msg in track:\n",
        "        if msg.type == \"program_change\":\n",
        "            count += 1\n",
        "            infoMsg = msg\n",
        "    \n",
        "    if count >= 1:\n",
        "        if infoMsg.channel == 9 or count == 1:\n",
        "            return infoMsg.program, infoMsg.channel\n",
        "        else: \n",
        "            return -1, -1\n",
        "    else:\n",
        "        return -1, -1"
      ],
      "execution_count": 6,
      "outputs": []
    },
    {
      "cell_type": "code",
      "metadata": {
        "scrolled": true,
        "id": "iP4lojMgrSiB"
      },
      "source": [
        "#splitAllTracks(\"data/jazz/\",\"data/jazz/tracks/\")"
      ],
      "execution_count": 7,
      "outputs": []
    },
    {
      "cell_type": "markdown",
      "metadata": {
        "id": "vTtFiHvFrSiB"
      },
      "source": [
        "#### Generatng tensor dataset from CSVs"
      ]
    },
    {
      "cell_type": "code",
      "metadata": {
        "id": "Vxt1UBhHrSiB"
      },
      "source": [
        "def Numpy2Dataset(notes, tgt, num=100,skip=200): # make list of sumpy arrays\n",
        "    samples = []\n",
        "    targets = []\n",
        "    i = 0\n",
        "    while i+num <= len(notes):\n",
        "        samples.append(notes[i:i+num])\n",
        "        targets.append(tgt)\n",
        "        i += skip\n",
        "    return samples, targets\n",
        "\n",
        "def SampleAllNumpy(dataPath): # generate samples from all saved CSVs\n",
        "    allSamples = []\n",
        "    allTargets = []\n",
        "\n",
        "    for i,f in enumerate(os.listdir(dataPath)):\n",
        "        notes = np.genfromtxt(dataPath+f, delimiter=',')\n",
        "        tgt = GetGroup(f)\n",
        "                             \n",
        "        samples, targets = Numpy2Dataset(notes, tgt)\n",
        "        allSamples += samples\n",
        "        allTargets += targets\n",
        "        if i % 100 == 0:\n",
        "            print(i)\n",
        "            \n",
        "    random.seed(0)\n",
        "    random.shuffle(allSamples)\n",
        "    random.seed(0)\n",
        "    random.shuffle(allTargets) # shuffle samples and targets in the exact same way\n",
        "    \n",
        "    return allSamples, allTargets\n",
        "\n",
        "def SaveSamplesTensor(samples, targets, outputPath, name=\"Notes_Dataset\"): # save tensor\n",
        "    tens = torch.Tensor(samples)\n",
        "    targ = torch.Tensor(targets)\n",
        "    dataset = TensorDataset(tens,targ)\n",
        "    torch.save(dataset, outputPath+name+\".pt\")\n",
        "    return tens   \n",
        "\n",
        "def SaveAllSamples(dataPath, outputPath, name=\"Notes_Dataset\"): # save dataset tensor\n",
        "    samples, targets = SampleAllNumpy(dataPath)\n",
        "    SaveSamplesTensor(samples, targets, outputPath, name)\n",
        "    \n",
        "def SplitSamples(dataset, ranges):\n",
        "    torch.maual_seed(0)\n",
        "    trainData, valData, testData = random_split(oneHotDataset, splitRange)\n",
        "    return trainData, valData, testData "
      ],
      "execution_count": 8,
      "outputs": []
    },
    {
      "cell_type": "code",
      "metadata": {
        "id": "DGM_cpI2rSiB"
      },
      "source": [
        "def ProgramGroup(program, channel):\n",
        "    if channel == 9:\n",
        "        return 0 # drums\n",
        "    if program < 8:\n",
        "        return 1 # piano\n",
        "    if program < 16:\n",
        "        return 8 # pitched percussion\n",
        "    if program < 24:\n",
        "        return 7 # organ\n",
        "    if program < 32:\n",
        "        return 3 # guitar\n",
        "    if program < 40:\n",
        "        return 2 # bass\n",
        "    if program < 48:\n",
        "        return 9 # string\n",
        "    if program < 56:\n",
        "        return 10 # ensemble\n",
        "    if program < 64:\n",
        "        return 4 # brass \n",
        "    if program < 72:\n",
        "        return 5 # reed\n",
        "    if program < 80:\n",
        "        return 11 # pipe\n",
        "    if program < 88:\n",
        "        return 6 # synth lead\n",
        "    if program < 96:\n",
        "        return 12 # synth pad\n",
        "    if program < 104:\n",
        "        return 13 # synth efects\n",
        "    if program < 112:\n",
        "        return 14 # ethnic\n",
        "    if program < 120:\n",
        "        return 15 # percusson\n",
        "    else:\n",
        "        return 16 # other \n",
        "    \n",
        "def GetProgram(name):\n",
        "    prog = name[12:15]\n",
        "    chan = name[20:22]\n",
        "    return int(prog), int(chan)\n",
        "\n",
        "def GetGroup(name):\n",
        "    prog, chan = GetProgram(name)\n",
        "    group = ProgramGroup(prog, chan)\n",
        "    return(group)"
      ],
      "execution_count": 9,
      "outputs": []
    },
    {
      "cell_type": "markdown",
      "metadata": {
        "id": "EcsmXvAarSiB"
      },
      "source": [
        "#### Bulk data conversion code - COMMENT OUT IF NOT IN USE!!!"
      ]
    },
    {
      "cell_type": "code",
      "metadata": {
        "id": "vKGMTqwurSiB"
      },
      "source": [
        "#SaveAllSamples(\"data/jazz/tracks_numpy/train/\",\"data/\",\"trainDataClass\") #save all into tensor\n",
        "#SaveAllSamples(\"data/jazz/tracks_numpy/val/\",\"data/\",\"valDataClass\") #save all into tensor\n",
        "#SaveAllSamples(\"data/jazz/tracks_numpy/test/\",\"data/\",\"testDataClass\") #save all into tensor\n",
        "\n",
        "# oneHotDataset = torch.load(\"data/onehot_data/onehot.pt\")\n",
        "\n",
        "# splitProp = np.array([0.9, 0.05 , 0.05]) # 90/5/5% split\n",
        "# splitRange = len(oneHotDataset)*splitProp\n",
        "# splitRange[0] += 1                           # so numbers add up\n",
        "# splitRange = splitRange.astype(int)\n",
        "\n",
        "# length = len(oneHotDataset)\n",
        "# a = 0.9*length\n",
        "# a = int(a)\n",
        "\n",
        "# b = 0.95*length\n",
        "# b = int(b)\n",
        "\n",
        "# tiny = oneHotDataset[:30]\n",
        "# train = oneHotDataset[:a]\n",
        "# val = oneHotDataset[a:b]\n",
        "# test = oneHotDataset[b:]\n",
        "\n",
        "# tinyData = TensorDataset(tiny[0].clone(), tiny[1].clone())\n",
        "# trainData = TensorDataset(train[0].clone(),train[1].clone())\n",
        "# valData = TensorDataset(val[0].clone(),val[1].clone())\n",
        "# testData = TensorDataset(test[0].clone(),test[1].clone())\n",
        "\n",
        "# torch.save(tinyData,\"data/onehot_data/tinyDataOneHot.pt\")\n",
        "# torch.save(trainData,\"data/onehot_data/trainDataOneHot.pt\")\n",
        "# torch.save(valData,\"data/onehot_data/valDataOneHot.pt\")\n",
        "# torch.save(testData,\"data/onehot_data/testDataOneHot.pt\")"
      ],
      "execution_count": 10,
      "outputs": []
    },
    {
      "cell_type": "code",
      "metadata": {
        "id": "Ssp85azWrSiC"
      },
      "source": [
        "#a = torch.load(\"data/va.pt\")"
      ],
      "execution_count": 11,
      "outputs": []
    },
    {
      "cell_type": "code",
      "metadata": {
        "colab": {
          "base_uri": "https://localhost:8080/",
          "height": 217
        },
        "id": "63avpbMHrSiC",
        "outputId": "38903c44-8edc-4f0b-9005-213cafdb812e"
      },
      "source": [
        "for img, label in iter(a):\n",
        "    #print(img)\n",
        "    print(label)\n",
        "    print()"
      ],
      "execution_count": 12,
      "outputs": [
        {
          "output_type": "error",
          "ename": "NameError",
          "evalue": "ignored",
          "traceback": [
            "\u001b[0;31m---------------------------------------------------------------------------\u001b[0m",
            "\u001b[0;31mNameError\u001b[0m                                 Traceback (most recent call last)",
            "\u001b[0;32m<ipython-input-12-d24174d239ad>\u001b[0m in \u001b[0;36m<module>\u001b[0;34m()\u001b[0m\n\u001b[0;32m----> 1\u001b[0;31m \u001b[0;32mfor\u001b[0m \u001b[0mimg\u001b[0m\u001b[0;34m,\u001b[0m \u001b[0mlabel\u001b[0m \u001b[0;32min\u001b[0m \u001b[0miter\u001b[0m\u001b[0;34m(\u001b[0m\u001b[0ma\u001b[0m\u001b[0;34m)\u001b[0m\u001b[0;34m:\u001b[0m\u001b[0;34m\u001b[0m\u001b[0;34m\u001b[0m\u001b[0m\n\u001b[0m\u001b[1;32m      2\u001b[0m     \u001b[0;31m#print(img)\u001b[0m\u001b[0;34m\u001b[0m\u001b[0;34m\u001b[0m\u001b[0;34m\u001b[0m\u001b[0m\n\u001b[1;32m      3\u001b[0m     \u001b[0mprint\u001b[0m\u001b[0;34m(\u001b[0m\u001b[0mlabel\u001b[0m\u001b[0;34m)\u001b[0m\u001b[0;34m\u001b[0m\u001b[0;34m\u001b[0m\u001b[0m\n\u001b[1;32m      4\u001b[0m     \u001b[0mprint\u001b[0m\u001b[0;34m(\u001b[0m\u001b[0;34m)\u001b[0m\u001b[0;34m\u001b[0m\u001b[0;34m\u001b[0m\u001b[0m\n",
            "\u001b[0;31mNameError\u001b[0m: name 'a' is not defined"
          ]
        }
      ]
    },
    {
      "cell_type": "code",
      "metadata": {
        "id": "dHJs765krSiC"
      },
      "source": [
        "# IMPORTANT: COMMENT OUT IF NOT IN USE TO AVOID ACCIDENTS!!!!!!!\n",
        "\n",
        "# Getting CSVs from MIDI data and processed data from CSVs\n",
        "# Processed MIDI does not contain program messages and so are a good measure of what output SHOULD look like in a perfect world\n",
        "\n",
        "# dataPath = \"data/jazz/tracks/\"\n",
        "# outputPath = \"data/jazz/tracks_numpy/\"\n",
        "# #processedPath = \"data/MIDI_files_processed/\"\n",
        "\n",
        "# for i,f in enumerate(os.listdir(dataPath)):\n",
        "#     if i > 2700:\n",
        "#         notes = Midi2Numpy(dataPath+f,track0=0)\n",
        "#         np.savetxt(outputPath + f[:22]+\".csv\",notes,delimiter=\",\")\n",
        "#     #Numpy2Midi(notes, processedPath + \"MIDI_{:04d}\".format(i))\n",
        "#     #break\n",
        "    \n",
        "#     if i % 200 == 0:\n",
        "#         print(i)"
      ],
      "execution_count": null,
      "outputs": []
    },
    {
      "cell_type": "code",
      "metadata": {
        "id": "GmrcKT1-rSiC"
      },
      "source": [
        "# IMPORTANT: COMMENT OUT IF NOT IN USE TO AVOID ACCIDENTS!!!!!!!\n",
        "\n",
        "# Getting CSVs from MIDI data and processed data from CSVs\n",
        "# Processed MIDI does not contain program messages and so are a good measure of what output SHOULD look like in a perfect world\n",
        "\n",
        "dataPath = \"data/jazz/tracks/\"\n",
        "outputPath = \"data/jazz/tracks_numpy/\"\n",
        "#processedPath = \"data/MIDI_files_processed/\"\n",
        "\n",
        "for i,f in enumerate(os.listdir(dataPath)):\n",
        "    if i == 47:\n",
        "        print(f)\n",
        "        testMidi = MidiFile(dataPath+f)\n",
        "        #PrintMessages(testMidi)\n",
        "        print(GetGroup(f))\n",
        "    #Numpy2Midi(notes, processedPath + \"MIDI_{:04d}\".format(i))\n",
        "    #break\n",
        "    \n",
        "    if i % 100 == 0:\n",
        "        print(i)"
      ],
      "execution_count": null,
      "outputs": []
    },
    {
      "cell_type": "code",
      "metadata": {
        "id": "r4lW9eKUrSiC"
      },
      "source": [
        "# dataPath = \"data/numpy_files/\"  # one-hot encoding on CSVs\n",
        "# outputPath = \"data/numpy_full/\"\n",
        "\n",
        "# for i,f in enumerate(os.listdir(dataPath)):\n",
        "#     notes = np.genfromtxt(dataPath+f, delimiter=',')\n",
        "#     notes = NumpyDenormalize(notes)\n",
        "#     notes = NumpyNotesOneHot(notes)\n",
        "#     notes = NumpyNormalize(notes, oneHot=True, full=True)\n",
        "#     np.savetxt(outputPath + \"MIDI_{:04d}.csv\".format(i),notes,delimiter=\",\")\n",
        "#     if i % 100 == 0:\n",
        "#         print(i)"
      ],
      "execution_count": null,
      "outputs": []
    },
    {
      "cell_type": "markdown",
      "metadata": {
        "id": "f0fsM7MtrSiC"
      },
      "source": [
        "## Baseline Model Code\n",
        "#### getting available notes"
      ]
    },
    {
      "cell_type": "code",
      "metadata": {
        "id": "g32Fqrj-rSiC"
      },
      "source": [
        "def GetAllNotesMajor(root):# Get all used notes in major scale of root=root\n",
        "    notes = []\n",
        "    intervals = [2,2,1,2,2,2,1]\n",
        "    \n",
        "    while root > 24: #bring down to lowest used octave\n",
        "        root -= 12\n",
        "    \n",
        "    n = root\n",
        "    notes.append(n)\n",
        "    while n < 84: #up to higherst used note\n",
        "        for i in intervals:\n",
        "            n += i\n",
        "            notes.append(n)   \n",
        "    return notes    \n",
        "\n",
        "\n",
        "def GetRangeMajor(notes, low, high): # Get all notes within range\n",
        "    lowIndex = notes.index(low)\n",
        "    highIndex = notes.index(high)\n",
        "    \n",
        "    return notes[lowIndex:highIndex+1]   "
      ],
      "execution_count": 13,
      "outputs": []
    },
    {
      "cell_type": "markdown",
      "metadata": {
        "id": "AO1cWHRJrSiC"
      },
      "source": [
        "#### Piece Class\n",
        "##### represents whole output from all 4 voices"
      ]
    },
    {
      "cell_type": "code",
      "metadata": {
        "id": "UjfKVZEnrSiC"
      },
      "source": [
        "class Piece: # Entire baseline model compostion - composed of 4 voices soprano, alto, tenor, bass (SATB)\n",
        "    def __init__(self, barNum=16, root=60):# 16 bars in C major\n",
        "        self.root = root # root note\n",
        "        self.allNotes = GetAllNotesMajor(self.root) # all notes on major scale\n",
        "        self.barNum = barNum # number of bars\n",
        "        \n",
        "        self.soprano = Voice(self.allNotes,60,84,speed=8) # SATB\n",
        "        self.alto = Voice(self.allNotes,48,72)\n",
        "        self.tenor = Voice(self.allNotes,36,60)\n",
        "        self.bass = Voice(self.allNotes,24,48)\n",
        "          \n",
        "        self.notes = np.empty([0,4]) #notes output\n",
        "        \n",
        "        self.pieceChords = [] # chords\n",
        "        \n",
        "        self.chords = np.array([ # common classical C major chords\n",
        "            [ 0,  4,  7,  0],# I\n",
        "            [ 2,  5,  9,  2],# ii\n",
        "            [ 4,  7, 11,  4],# iii\n",
        "            [ 5,  9, 0,  5],# IV\n",
        "            [ 7, 11, 2,  7],# V\n",
        "            [ 9, 0, 4,  9],# vi\n",
        "            [11, 2, 5, 11],# vii dim\n",
        "            [ 2,  5,  9, 0],# ii7\n",
        "            [ 5,  9, 0, 4],# IVmaj7\n",
        "            [ 7, 11, 2, 5],# V7\n",
        "            [11, 2, 5, 9]])# vii7 half-dim\n",
        "        \n",
        "    def GenerateSoprano(self): # Generate soprano line\n",
        "        self.soprano.GenerateLine(self.soprano.speed*self.barNum)\n",
        "        \n",
        "    def GenerateAlto(self): # Generate alto line from chords\n",
        "        self.alto.GenerateChordLine(self.pieceChords)\n",
        "        \n",
        "    def GenerateTenor(self): # see alto\n",
        "        self.tenor.GenerateChordLine(self.pieceChords)\n",
        "        \n",
        "    def GenerateBass(self): # see alto\n",
        "        self.bass.GenerateChordLine(self.pieceChords)\n",
        "        \n",
        "        \n",
        "    \n",
        "    def ChooseChord(self, sopNote): # Choose a fitting chord for soprano note\n",
        "        while sopNote >= 12:\n",
        "            sopNote -= 12\n",
        "        \n",
        "        goodChords = np.empty([0,4])\n",
        "        \n",
        "        for chord in self.chords:\n",
        "            if (chord==sopNote).sum() > 0:\n",
        "                goodChords = np.append(goodChords,[chord],axis=0)\n",
        "        \n",
        "        chosenChord = goodChords[random.randint(0,len(goodChords)-1)]\n",
        "        chosenChord = np.sort(np.unique(chosenChord))\n",
        "        \n",
        "        i = 12\n",
        "        chordNotes = chosenChord\n",
        "        while i < 120:\n",
        "            chordNotes = np.append(chordNotes, chosenChord+i)\n",
        "            i += 12\n",
        "        \n",
        "        return(chordNotes)\n",
        "    \n",
        "    def GetChords(self): # select all chords in piece\n",
        "        for i, note in enumerate(self.soprano.notes):\n",
        "            if i % 2 == 0:\n",
        "                sopNote = note[0]\n",
        "                chord = self.ChooseChord(sopNote)\n",
        "                self.pieceChords.append(chord)\n",
        "                \n",
        "    def Normalize(self): # normalize all values to 0-1\n",
        "        for i, msg in enumerate(self.notes):\n",
        "            self.notes[i,0] = msg[0]/128\n",
        "            self.notes[i,1] = msg[1]/128\n",
        "            self.notes[i,2] = msg[2]/40000\n",
        "            self.notes[i,3] = msg[3]/40000\n",
        "                \n",
        "    def GenerateLines(self): # Generate all SATB lines and joins them - entire baseline model\n",
        "        self.GenerateSoprano()\n",
        "        self.GetChords()\n",
        "        self.GenerateAlto()\n",
        "        self.GenerateTenor()\n",
        "        self.GenerateBass()\n",
        "        self.joinLines()\n",
        "        self.OffsetTime(20)\n",
        "        self.Normalize()\n",
        "        \n",
        "        return self.notes\n",
        "        \n",
        "    def InsertLine(self, starting, inserted, startIndex, skipIndex): # join 2 lines\n",
        "        base = np.copy(starting)\n",
        "        ins = np.copy(inserted)\n",
        "        \n",
        "        for i,note in enumerate(ins):\n",
        "            base = np.insert(base, (i*skipIndex)+startIndex, [note], axis=0)\n",
        "            \n",
        "        return base\n",
        "        \n",
        "    def joinLines(self): # join all SATB lines\n",
        "        #self.notes = np.copy(self.soprano)\n",
        "        self.notes = self.InsertLine(self.soprano.notes, self.alto.notes, 1, 3)\n",
        "        self.notes = self.InsertLine(self.notes, self.tenor.notes, 2, 4)\n",
        "        self.notes = self.InsertLine(self.notes, self.bass.notes, 3, 5)\n",
        "        \n",
        "    def OffsetTime(self, maxChange): # adds random time offsets to make output sound more organic\n",
        "        for note in self.notes:\n",
        "            note[2] += random.randint(0,maxChange)\n",
        "        "
      ],
      "execution_count": 14,
      "outputs": []
    },
    {
      "cell_type": "markdown",
      "metadata": {
        "id": "cDP-eUfQrSiC"
      },
      "source": [
        "#### Voice class\n",
        "##### Represents individual voices"
      ]
    },
    {
      "cell_type": "code",
      "metadata": {
        "id": "WPVGr8YTrSiC"
      },
      "source": [
        "class Voice: # individual voices\n",
        "    def __init__(self, allNotes, lowNote, highNote, jump=3, speed=4, time=4096, velocity=64):\n",
        "        self.range = GetRangeMajor(allNotes,lowNote,highNote) #available ntoes\n",
        "        self.jump = jump #maximum pitch interval between notes\n",
        "        self.speed = speed #note length i.e. 4 for quarter, 8 for eighth etc.\n",
        "        self.time = time #song speed\n",
        "        self.velocity = velocity #note volume\n",
        "        self.notes = np.empty([0,4]) #notes output\n",
        "        self.lowNote = lowNote # lowest note\n",
        "        self.highNote = highNote # highest note\n",
        "        self.allNotes = allNotes # all notes in scale\n",
        "            \n",
        "        self.duration = self.time / self.speed # time between notes\n",
        "        \n",
        "        \n",
        "    def RandomStartNote(self): # Generate Random first note (for soprano)\n",
        "        note = random.choice(self.range)\n",
        "        self.notes = np.append(self.notes,np.array([[note, self.velocity, 0, self.duration]]),axis=0)\n",
        "        \n",
        "        \n",
        "    def RandomJump(self): # Generate Random next note (for soprano)\n",
        "        lastNote = self.notes[len(self.notes)-1][0] # find last played note\n",
        "        lastIndex = self.range.index(lastNote)\n",
        "        \n",
        "        newIndex = -1\n",
        "        while newIndex < 0 or newIndex >= len(self.range): # stay in range\n",
        "            newIndex = lastIndex + random.randint(-self.jump,self.jump)\n",
        "            \n",
        "        newNote = self.range[newIndex]\n",
        "        self.notes = np.append(self.notes,np.array([[newNote, self.velocity, self.duration, self.duration]]),axis=0)\n",
        "        \n",
        "        \n",
        "    def GenerateLine(self, length): # Generate random line (for soprano)\n",
        "        self.RandomStartNote()\n",
        "        \n",
        "        for n in range(length-1):\n",
        "            self.RandomJump()\n",
        "            \n",
        "            \n",
        "    def clearNotes(self):\n",
        "        self.notes = np.empty([0,4])\n",
        "        \n",
        "    def GetChordNotes(self, chordNotes): # Get useful notes from all chord notes\n",
        "        chordNotes = chordNotes[chordNotes >= self.lowNote]\n",
        "        chordNotes = chordNotes[chordNotes <= self.highNote]\n",
        "        return chordNotes\n",
        "    \n",
        "    def ChooseStartChordNote(self, chordNotes): # Choose Random note in chord\n",
        "        note = random.choice(chordNotes)\n",
        "        self.notes = np.append(self.notes,np.array([[note, self.velocity, 0, self.duration]]),axis=0)\n",
        "        \n",
        "    def ChooseChordNote(self,chordNotes): # Choose suitable next note in chord\n",
        "        lastNote = self.notes[len(self.notes)-1][0] # find last played note\n",
        "        \n",
        "        chordNotes = chordNotes[chordNotes >= lastNote - (self.jump*2)]\n",
        "        chordNotes = chordNotes[chordNotes <= lastNote + (self.jump*2)]\n",
        "        newNote = random.choice(chordNotes)\n",
        "        \n",
        "        self.notes = np.append(self.notes,np.array([[newNote, self.velocity, 0, self.duration]]),axis=0)\n",
        "        \n",
        "    def GenerateChordLine(self, chords): # Generate A/T/B lines\n",
        "        \n",
        "        firstChord = self.GetChordNotes(chords[0])\n",
        "        self.ChooseStartChordNote(firstChord)\n",
        "        \n",
        "        for c in chords[1:]:\n",
        "            chord = self.GetChordNotes(c)\n",
        "            self.ChooseChordNote(chord)"
      ],
      "execution_count": 15,
      "outputs": []
    },
    {
      "cell_type": "markdown",
      "metadata": {
        "id": "3cqmkQTqrSiC"
      },
      "source": [
        "## Model architecture definition"
      ]
    },
    {
      "cell_type": "markdown",
      "metadata": {
        "id": "eiA0KsAkrSiC"
      },
      "source": [
        "Set the hyperparameters below:\n"
      ]
    },
    {
      "cell_type": "code",
      "metadata": {
        "colab": {
          "base_uri": "https://localhost:8080/"
        },
        "id": "f4gpkIALrSiC",
        "outputId": "48c295e0-fcac-4b7a-aa4f-536bf2bef54d"
      },
      "source": [
        "torch.manual_seed(1)\n",
        "\n",
        "class LSTMClassifier(nn.Module):\n",
        "    def __init__(self, n_features, n_classes, n_hidden, n_layers, batch_size):\n",
        "        super(LSTMClassifier, self).__init__()\n",
        "        self.name = \"LSTMClassifier\"\n",
        "        self.n_features, self.n_classes, self.n_hidden, self.n_layers = n_classes, n_hidden, n_layers, n_features\n",
        "        self.lstm = nn.LSTM(n_features, n_hidden, n_layers, batch_first=True)\n",
        "        self.fc = torch.nn.Linear(2*n_hidden, n_classes)\n",
        "\n",
        "    def forward(self, x):\n",
        "        # Forward propagate the RNN\n",
        "        out, _ = self.lstm(x)\n",
        "        # Pass the output of the last time step to the classifier\n",
        "        out = torch.cat([torch.max(out, dim=1)[0], \n",
        "                    torch.mean(out, dim=1)], dim=1)\n",
        "        output = self.fc(out)\n",
        "        return output\n",
        "\n",
        "print('Model class created succesfully')"
      ],
      "execution_count": 31,
      "outputs": [
        {
          "output_type": "stream",
          "text": [
            "Model class created succesfully\n"
          ],
          "name": "stdout"
        }
      ]
    },
    {
      "cell_type": "markdown",
      "metadata": {
        "id": "5D2idmcbrSiD"
      },
      "source": [
        "## Training function"
      ]
    },
    {
      "cell_type": "code",
      "metadata": {
        "id": "G5ENRYH9rSiD"
      },
      "source": [
        "#To help us save the model easier...\n",
        "def get_model_name(name, batch_size, learning_rate, epoch):\n",
        "    \"\"\" Generate a name for the model consisting of all the hyperparameter values\n",
        "\n",
        "    Args:\n",
        "        config: Configuration object containing the hyperparameters\n",
        "    Returns:\n",
        "        path: A string with the hyperparameter name and value concatenated\n",
        "    \"\"\"\n",
        "    path = \"model_{0}_bs{1}_lr{2}_epoch{3}\".format(name,\n",
        "                                                   batch_size,\n",
        "                                                   learning_rate,\n",
        "                                                   epoch)\n",
        "    return path"
      ],
      "execution_count": 17,
      "outputs": []
    },
    {
      "cell_type": "code",
      "metadata": {
        "id": "GLOGDWmrubIm"
      },
      "source": [
        "def get_accuracy(model, data_loader): #Accuracy on note selection...\n",
        "    correct = 0\n",
        "    total = 0\n",
        "\n",
        "    for sample in data_loader:\n",
        "        inputs, labels = sample\n",
        "        if use_cuda and torch.cuda.is_available():\n",
        "                inputs = inputs.cuda()\n",
        "                labels = labels.cuda()\n",
        "        output = model(inputs)\n",
        "        pred = output.max(1, keepdim=True)[1]\n",
        "        correct += pred.eq(labels.view_as(pred)).sum().item()\n",
        "        total += len(labels)\n",
        "    return (correct / total)*100\n",
        "\n",
        "def get_loss(model, data_loader, criterion):\n",
        "    total_loss = 0\n",
        "    for sample in data_loader:\n",
        "        inputs, labels = sample\n",
        "        if use_cuda and torch.cuda.is_available():\n",
        "                inputs = inputs.cuda()\n",
        "                labels = labels.cuda()\n",
        "        output = model(inputs)\n",
        "        # Get loss\n",
        "        loss = criterion(output, labels)\n",
        "        loss.backward()\n",
        "\n",
        "        # Sum up loss\n",
        "        total_loss += float(loss)\n",
        "        \n",
        "    lossVal = total_loss / len(inputs)\n",
        "    return lossVal"
      ],
      "execution_count": 118,
      "outputs": []
    },
    {
      "cell_type": "code",
      "metadata": {
        "id": "Fpju80lNTuoE"
      },
      "source": [
        "# Training Curve\n",
        "def plot_training_curve(accLoss, train, val):\n",
        "    \"\"\" Plots the training curve for a model's train/validation loss or accuracy.\n",
        "\n",
        "    Args:\n",
        "        accLoss: \"Accuracy\" or \"Loss\"\n",
        "        train: train data\n",
        "        val: validation data\n",
        "    \"\"\"\n",
        "    import matplotlib.pyplot as plt\n",
        "    titleStr = \"Train vs Validation \" + accLoss\n",
        "    plt.title(titleStr)\n",
        "    n = len(train) # number of epochs\n",
        "    plt.plot(range(1,n+1), train, label=\"Train\")\n",
        "    plt.plot(range(1,n+1), val, label=\"Validation\")\n",
        "    plt.xlabel(\"Epoch\")\n",
        "    plt.ylabel(accLoss)\n",
        "    plt.legend(loc='best')\n",
        "    plt.show()"
      ],
      "execution_count": 119,
      "outputs": []
    },
    {
      "cell_type": "code",
      "metadata": {
        "id": "cdaGeFrjrSiD"
      },
      "source": [
        "def train(model, train_dataset, val_dataset, num_epochs=5, batch_size=64, learning_rate=1e-3):\n",
        "    torch.manual_seed(1000) #Fixed. Make sure we use this throughout...\n",
        "    criterion = nn.CrossEntropyLoss()\n",
        "    optimizer = torch.optim.Adam(model.parameters(),\n",
        "                                 lr=learning_rate, weight_decay=0.001)\n",
        "    losses, accuracy = [], []\n",
        "    train_loader = torch.utils.data.DataLoader(train_dataset, batch_size=batch_size)\n",
        "    val_loader = torch.utils.data.DataLoader(val_dataset, batch_size=batch_size)\n",
        "    \n",
        "    n = 0 # the number of iterations\n",
        "    start_time=time.time() #Start of training\n",
        "\n",
        "    for epoch in range(num_epochs):\n",
        "        for i, data in enumerate(train_loader):\n",
        "            inputs, labels = data\n",
        "            print(np.int(labels.detach().numpy()))\n",
        "            if use_cuda and torch.cuda.is_available():\n",
        "                inputs = inputs.cuda()\n",
        "                labels = labels.cuda()\n",
        "\n",
        "            out = model(inputs)             # forward pass\n",
        "            loss = criterion(out, labels) # compute the total loss\n",
        "\n",
        "            loss.backward()               # backward pass (compute parameter updates)\n",
        "            optimizer.step()              # make the updates for each parameter\n",
        "            optimizer.zero_grad()         # a clean up step for PyTorch\n",
        "\n",
        "            losses.append(float(loss)/batch_size)             # compute *average* loss\n",
        "        accurate = get_accuracy(model, train_loader)\n",
        "        accuracy.append(accurate)\n",
        "\n",
        "        print('Epoch:{}, Loss:{:.4f}, Accuracy:{:.4f}'.format(epoch+1, float(loss), float(accurate)))\n",
        "\n",
        "    #Save the file current model with the weights\n",
        "    model_path = get_model_name(model.name, batch_size, learning_rate, num_epochs)\n",
        "    torch.save(model.state_dict(), model_path)\n",
        "    end_time= time.time()\n",
        "\n",
        "    return loss, accuracy"
      ],
      "execution_count": 98,
      "outputs": []
    },
    {
      "cell_type": "code",
      "metadata": {
        "id": "8KDJooOSVCTi"
      },
      "source": [
        "def train(model, train_dataset, val_dataset, num_epochs=5, batch_size=64, learning_rate=1e-3):\n",
        "    torch.manual_seed(1000) #Fixed. Make sure we use this throughout...\n",
        "    criterion = nn.CrossEntropyLoss()\n",
        "    optimizer = torch.optim.Adam(model.parameters(),\n",
        "                                 lr=learning_rate, weight_decay=0.001)\n",
        "    train_loader = torch.utils.data.DataLoader(train_dataset, batch_size=batch_size, shuffle=True)\n",
        "    val_loader = torch.utils.data.DataLoader(val_dataset, batch_size=batch_size, shuffle=True)\n",
        "    \n",
        "    start_time=time.time() #Start of training\n",
        "\n",
        "    train_losses, train_accs, val_losses, val_accs = [], [], [], []\n",
        "\n",
        "    for epoch in range(num_epochs):\n",
        "        for i, data in enumerate(train_loader):\n",
        "            inputs, labels = data\n",
        "            if use_cuda and torch.cuda.is_available():\n",
        "                inputs = inputs.cuda()\n",
        "                labels = labels.cuda()\n",
        "\n",
        "            out = model(inputs)             # forward pass\n",
        "            loss = criterion(out, labels) # compute the total loss\n",
        "\n",
        "            loss.backward()               # backward pass (compute parameter updates)\n",
        "            optimizer.step()              # make the updates for each parameter\n",
        "            optimizer.zero_grad()         # a clean up step for PyTorch\n",
        "\n",
        "            loss = float(loss)/batch_size             # compute *average* loss\n",
        "\n",
        "        train_acc = get_accuracy(model, train_loader)\n",
        "        val_loss = get_loss(model, val_loader, criterion)\n",
        "        val_acc =get_accuracy(model, val_loader)\n",
        "\n",
        "        print('Epoch: {} - Train loss: {:.4f}, Validation loss: {:.4f}, Train accuracy: {:.2f}%, Validation accuracy: {:.2f}%'.format(\n",
        "                            epoch+1, float(loss), float(val_loss), float(train_acc), float(val_acc)))\n",
        "        \n",
        "        train_losses.append(loss)             # compute *average* loss\n",
        "        train_accs.append(train_acc)\n",
        "        val_losses.append(val_loss)\n",
        "        val_accs.append(val_acc)\n",
        "\n",
        "    #Save the file current model with the weights\n",
        "    model_path = get_model_name(model.name, batch_size, learning_rate, num_epochs)\n",
        "    torch.save(model.state_dict(), model_path)\n",
        "    end_time= time.time()\n",
        "\n",
        "    return train_losses, train_accs, val_losses, val_accs"
      ],
      "execution_count": 125,
      "outputs": []
    },
    {
      "cell_type": "markdown",
      "metadata": {
        "id": "t0zUIKqerSiD"
      },
      "source": [
        "## Model Training"
      ]
    },
    {
      "cell_type": "code",
      "metadata": {
        "id": "U5q-SKT-rSiD"
      },
      "source": [
        "def get_class_0_1(dataset):\n",
        "    list_data = list(dataset)\n",
        "    data = []\n",
        "    label = []\n",
        "\n",
        "    for sample in list_data:\n",
        "        data.append((sample[0]).detach().numpy())\n",
        "        label.append((sample[1]).detach().numpy())\n",
        "\n",
        "    data = np.array(data)\n",
        "    label = np.array(label)\n",
        "\n",
        "    # Grab data that are classified as 0 or 1\n",
        "    class_0_1_data = data[np.where(np.logical_or(label == 0, label == 1))]\n",
        "    class_0_1_label = label[np.where(np.logical_or(label == 0, label == 1))]\n",
        "\n",
        "    # Prevent type errors\n",
        "    out_dataset = TensorDataset(torch.tensor(class_0_1_data).float(), torch.tensor(class_0_1_label).long())\n",
        "    return out_dataset"
      ],
      "execution_count": 91,
      "outputs": []
    },
    {
      "cell_type": "code",
      "metadata": {
        "id": "DyDP2xejwnXc"
      },
      "source": [
        "# Load saved tensor dataset\n",
        "train_dataset = torch.load(r'/content/gdrive/My Drive/APS360/Project/trainDataClass.pt')\n",
        "val_dataset = torch.load(r'/content/gdrive/My Drive/APS360/Project/valDataClass.pt')\n",
        "test_dataset = torch.load(r'/content/gdrive/My Drive/APS360/Project/testDataClass.pt')"
      ],
      "execution_count": 27,
      "outputs": []
    },
    {
      "cell_type": "code",
      "metadata": {
        "id": "WEJ4OXb67IUX"
      },
      "source": [
        "train_dataset = get_class_0_1(train_dataset)\n",
        "val_dataset = get_class_0_1(val_dataset)\n",
        "test_dataset = get_class_0_1(test_dataset)"
      ],
      "execution_count": 28,
      "outputs": []
    },
    {
      "cell_type": "code",
      "metadata": {
        "id": "Hr_c4ReHx191"
      },
      "source": [
        "use_cuda = False\n",
        "\n",
        "# For LSTM: https://pytorch.org/docs/stable/generated/torch.nn.LSTM.html #torch.nn.LSTM \n",
        "# Hyperparameters\n",
        "N_FEATURES = 4\n",
        "N_CLASSES = 2\n",
        "N_HIDDEN = 32\n",
        "N_LAYERS = 2\n",
        "BATCH_SIZE = 32\n",
        "\n",
        "LSTM_Net = LSTMClassifier(N_FEATURES, N_CLASSES, N_HIDDEN, N_LAYERS, BATCH_SIZE)\n",
        "if use_cuda and torch.cuda.is_available():\n",
        "    LSTM_Net.cuda()"
      ],
      "execution_count": 121,
      "outputs": []
    },
    {
      "cell_type": "code",
      "metadata": {
        "colab": {
          "base_uri": "https://localhost:8080/"
        },
        "id": "Y0RWdIsr-oLi",
        "outputId": "f98f71c5-86c2-44b9-a35f-326e6da2b249"
      },
      "source": [
        "train_losses, train_accs, val_losses, val_accs = train(LSTM_Net, train_dataset, val_dataset, num_epochs=10, batch_size=BATCH_SIZE, learning_rate=0.0001)"
      ],
      "execution_count": 126,
      "outputs": [
        {
          "output_type": "stream",
          "text": [
            "Epoch: 1 - Train loss: 0.0132, Validation loss: 4.4631, Train accuracy: 64.63%, Validation accuracy: 70.22%\n",
            "Epoch: 2 - Train loss: 0.0124, Validation loss: 4.4074, Train accuracy: 64.63%, Validation accuracy: 70.22%\n",
            "Epoch: 3 - Train loss: 0.0210, Validation loss: 4.0062, Train accuracy: 64.63%, Validation accuracy: 70.22%\n",
            "Epoch: 4 - Train loss: 0.0090, Validation loss: 2.5024, Train accuracy: 82.96%, Validation accuracy: 88.44%\n",
            "Epoch: 5 - Train loss: 0.0139, Validation loss: 2.1759, Train accuracy: 83.28%, Validation accuracy: 89.78%\n",
            "Epoch: 6 - Train loss: 0.0016, Validation loss: 1.7989, Train accuracy: 85.63%, Validation accuracy: 92.00%\n",
            "Epoch: 7 - Train loss: 0.0048, Validation loss: 1.7967, Train accuracy: 86.50%, Validation accuracy: 92.00%\n",
            "Epoch: 8 - Train loss: 0.0307, Validation loss: 1.9704, Train accuracy: 85.97%, Validation accuracy: 92.22%\n",
            "Epoch: 9 - Train loss: 0.0012, Validation loss: 1.7578, Train accuracy: 86.24%, Validation accuracy: 92.22%\n",
            "Epoch: 10 - Train loss: 0.0086, Validation loss: 1.6672, Train accuracy: 86.97%, Validation accuracy: 92.44%\n"
          ],
          "name": "stdout"
        }
      ]
    },
    {
      "cell_type": "code",
      "metadata": {
        "colab": {
          "base_uri": "https://localhost:8080/",
          "height": 573
        },
        "id": "Ue6n6_07WJFW",
        "outputId": "2489c0d7-1818-496f-889f-9cc0f885a203"
      },
      "source": [
        "# Plot loss curves\n",
        "plot_training_curve(\"Loss\", train_losses, val_losses)\n",
        "\n",
        "# Plot accuracy curves\n",
        "plot_training_curve(\"Accuracy\", train_accs, val_accs)"
      ],
      "execution_count": 127,
      "outputs": [
        {
          "output_type": "display_data",
          "data": {
            "image/png": "[encoded data removed]",
            "text/plain": [
              "<Figure size 432x288 with 1 Axes>"
            ]
          },
          "metadata": {
            "tags": [],
            "needs_background": "light"
          }
        },
        {
          "output_type": "display_data",
          "data": {
            "image/png": "[encoded data removed]",
            "text/plain": [
              "<Figure size 432x288 with 1 Axes>"
            ]
          },
          "metadata": {
            "tags": [],
            "needs_background": "light"
          }
        }
      ]
    },
    {
      "cell_type": "markdown",
      "metadata": {
        "id": "mtmDqDHmrSiD"
      },
      "source": [
        "## Model Testing"
      ]
    },
    {
      "cell_type": "code",
      "metadata": {
        "scrolled": true,
        "colab": {
          "base_uri": "https://localhost:8080/"
        },
        "id": "jOIt01mprSiD",
        "outputId": "d2e266f1-d4b8-42d3-b679-d90c77bda27a"
      },
      "source": [
        "test_loader = torch.utils.data.DataLoader(test_dataset, batch_size=BATCH_SIZE, shuffle=True)\n",
        "\n",
        "criterion = nn.CrossEntropyLoss()\n",
        "\n",
        "test_acc = get_accuracy(LSTM_Net, test_loader)\n",
        "test_loss = get_loss(LSTM_Net, test_loader, criterion)\n",
        "\n",
        "print((\"Test Loss: {:.4f}\").format(float(test_loss)))\n",
        "print((\"Test Accuracy: {:.2f}%\").format(float(test_acc)))"
      ],
      "execution_count": 129,
      "outputs": [
        {
          "output_type": "stream",
          "text": [
            "Test Loss: 1.9827\n",
            "Test Accuracy: 90.25%\n"
          ],
          "name": "stdout"
        }
      ]
    }
  ]
}